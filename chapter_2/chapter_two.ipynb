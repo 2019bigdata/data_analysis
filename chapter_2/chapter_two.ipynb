{
 "cells": [
  {
   "cell_type": "markdown",
   "metadata": {},
   "source": [
    "##  第二章 数值计算基础"
   ]
  },
  {
   "cell_type": "code",
   "execution_count": 6,
   "metadata": {
    "ExecuteTime": {
     "end_time": "2019-06-12T01:49:23.143336Z",
     "start_time": "2019-06-12T01:49:22.992812Z"
    }
   },
   "outputs": [
    {
     "data": {
      "text/plain": [
       "array([[0.18211739, 0.83079324, 0.91057359, 0.99188206, 0.96545728],\n",
       "       [0.13596088, 0.00126896, 0.00240888, 0.09065899, 0.3139966 ],\n",
       "       [0.74386978, 0.14631745, 0.58519847, 0.53924685, 0.50755648],\n",
       "       [0.43985584, 0.3788138 , 0.56873485, 0.35939871, 0.87312749],\n",
       "       [0.28714851, 0.68023917, 0.35073732, 0.5782462 , 0.88642553],\n",
       "       [0.62424405, 0.67212566, 0.8351519 , 0.96303042, 0.71839998],\n",
       "       [0.1970837 , 0.50250866, 0.84462037, 0.86575388, 0.45475673],\n",
       "       [0.22134696, 0.17996475, 0.86514379, 0.2465768 , 0.25532777],\n",
       "       [0.91365715, 0.66568395, 0.08233655, 0.58959725, 0.5625828 ],\n",
       "       [0.00646633, 0.39095637, 0.5203246 , 0.9619448 , 0.19273503]])"
      ]
     },
     "execution_count": 6,
     "metadata": {},
     "output_type": "execute_result"
    }
   ],
   "source": [
    "'操作题'\n",
    "import numpy as np\n",
    "\n",
    "arr = np.random.rand(10, 5)\n",
    "arr\n"
   ]
  },
  {
   "cell_type": "code",
   "execution_count": 7,
   "metadata": {
    "ExecuteTime": {
     "end_time": "2019-06-12T01:52:41.640287Z",
     "start_time": "2019-06-12T01:52:41.633897Z"
    }
   },
   "outputs": [
    {
     "data": {
      "text/plain": [
       "matrix([[19, 33],\n",
       "        [33, 59]])"
      ]
     },
     "execution_count": 7,
     "metadata": {},
     "output_type": "execute_result"
    }
   ],
   "source": [
    "'生成两个矩阵'\n",
    "mat1 = np.mat(\"2 3; 4 5\")\n",
    "mat2 = np.mat(\"2 6; 5 7\")\n",
    "'让这两个矩阵相乘'\n",
    "mat1 * mat2"
   ]
  },
  {
   "cell_type": "code",
   "execution_count": null,
   "metadata": {},
   "outputs": [],
   "source": []
  }
 ],
 "metadata": {
  "kernelspec": {
   "display_name": "Python 3",
   "language": "python",
   "name": "python3"
  },
  "language_info": {
   "codemirror_mode": {
    "name": "ipython",
    "version": 3
   },
   "file_extension": ".py",
   "mimetype": "text/x-python",
   "name": "python",
   "nbconvert_exporter": "python",
   "pygments_lexer": "ipython3",
   "version": "3.7.3"
  },
  "latex_envs": {
   "LaTeX_envs_menu_present": true,
   "autoclose": false,
   "autocomplete": true,
   "bibliofile": "biblio.bib",
   "cite_by": "apalike",
   "current_citInitial": 1,
   "eqLabelWithNumbers": true,
   "eqNumInitial": 1,
   "hotkeys": {
    "equation": "Ctrl-E",
    "itemize": "Ctrl-I"
   },
   "labels_anchors": false,
   "latex_user_defs": false,
   "report_style_numbering": false,
   "user_envs_cfg": false
  },
  "toc": {
   "base_numbering": 1,
   "nav_menu": {},
   "number_sections": true,
   "sideBar": true,
   "skip_h1_title": false,
   "title_cell": "Table of Contents",
   "title_sidebar": "Contents",
   "toc_cell": false,
   "toc_position": {},
   "toc_section_display": true,
   "toc_window_display": false
  }
 },
 "nbformat": 4,
 "nbformat_minor": 2
}
